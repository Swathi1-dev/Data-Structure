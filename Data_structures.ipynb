{
  "nbformat": 4,
  "nbformat_minor": 0,
  "metadata": {
    "colab": {
      "provenance": []
    },
    "kernelspec": {
      "name": "python3",
      "display_name": "Python 3"
    },
    "language_info": {
      "name": "python"
    }
  },
  "cells": [
    {
      "cell_type": "markdown",
      "source": [
        "Name : Swathi R\n",
        "\n",
        "Email id: swathihreddy19@gmail.com\n",
        "\n",
        "Assignment : Python - Data Structure"
      ],
      "metadata": {
        "id": "7kUJ4Ml6iVBA"
      }
    },
    {
      "cell_type": "markdown",
      "source": [
        "1. What are data structures, and why are they important?\n",
        "\n",
        "Ans: Data structure is the process of organizing ,stroing the data. so , that we can access and manipulate it efficiently.\n",
        "\n",
        "2. Explain the difference between mutable and immutable data types with examples?\n",
        "\n",
        "Ans: Mutable - we can chnage the data\n",
        "eg:lists,dictionaries\n",
        "\n",
        "Immutable - we can't change the data\n",
        "eg:tuples,strings\n",
        "\n",
        "3. What are the main differences between lists and tuples in Python?\n",
        "\n",
        "Ans: lists are mutable and tuples are immutable and lists are stored inside[]and tuples are stored inside()\n",
        "\n",
        "4. Describe how dictionaries store data?\n",
        "\n",
        "Ans: dictionaries stores data in the form of key-value pair.were it uses hash table where keys are hased and corresponding values are stored in memory.\n",
        "\n",
        "5. Why might you use a set instead of a list in Python?\n",
        "\n",
        "Ans: To remove the duplicate elements as sets only allows unique elements and remove the duplicate elements\n",
        "\n",
        "6. What is a string in Python, and how is it different from a list?\n",
        "\n",
        "Ans: String is an sequence of characters enclosed within single or double characters .\n",
        "string is immutable and list are mutable.\n",
        "\n",
        "7. How do tuples ensure data integrity in Python?\n",
        "\n",
        "Ans: tuples are immutable , hence we can't change the data .so it helps to keep the data integrity.\n",
        "\n",
        "8. What is a hash table, and how does it relate to dictionaries in Python?\n",
        "\n",
        "Ans:In data structure hash table maps keys to values using hasing function.\n",
        "dictionaries are related to hash table as it uses hash table to store and retrive the data.\n",
        "\n",
        "9. Can lists contain different data types in Python?\n",
        "\n",
        "Ans: Yes, we can store any type of data in list like string, int,float etc...\n",
        "\n",
        "10. Explain why strings are immutable in Python?\n",
        "\n",
        "Ans: Strings are immutable because we can't change the individual characters of string .\n",
        "\n",
        "11. What advantages do dictionaries offer over lists for certain tasks?\n",
        "\n",
        "Ans: key value storage.\n",
        "in list we can access the elements using the index of the elements and in dictionaries we can access the element using the keys.\n",
        "\n",
        "12. Describe a scenario where using a tuple would be preferable over a list?\n",
        "\n",
        "Ans: When we don't need to change the data later we want to keep it constant. we will store those kinds of data in tuples.as tuples are immutable .\n",
        "\n",
        "13. How do sets handle duplicate values in Python?\n",
        "\n",
        "Ans: Sets authomatically removes the duplicate values inside it.\n",
        "\n",
        "14. How does the “in” keyword work differently for lists and dictionaries?\n",
        "\n",
        "Ans: In lists it checks elements sequentialy , and in dictionaries it uses hashing to check the elements.\n",
        "\n",
        "15. Can you modify the elements of a tuple? Explain why or why not?\n",
        "\n",
        "Ans: No , we can't modify the elements inside the tuples. tuples are immutable we can't change the data.\n",
        "\n",
        "16. What is a nested dictionary, and give an example of its use case?\n",
        "\n",
        "Ans: A dictionary containing another dictionary as value.\n",
        "use case: restaurent menu\n",
        "\n",
        "17. Describe the time complexity of accessing elements in a dictionary?\n",
        "\n",
        "Ans: 0(1) time complexity for hashing\n",
        "\n",
        "18. In what situations are lists preferred over dictionaries?\n",
        "\n",
        "Ans: When ever we need to store the sequentical data and need to retrieve it sequential we prefer lists ,as lists ordered collection of elements.\n",
        "\n",
        "19. Why are dictionaries considered unordered, and how does that affect data retrieval?\n",
        "\n",
        "Ans: Dictionaries uses hasing , storing elements in arbitary order but it provides fast retrivals.\n",
        "\n",
        "20. Explain the difference between a list and a dictionary in terms of data retrieval?\n",
        "\n",
        "Ans: lists uses index to access the elements were as dictionaries uses values to access the elements.\n",
        "lists doesn't allow key value pair to store the data. dictionaries uses key value pair to store the data.\n",
        "\n",
        "\n",
        "\n",
        "\n",
        "\n",
        "\n",
        "\n",
        "\n",
        "\n",
        "\n",
        "\n",
        "\n",
        "\n",
        "\n",
        "\n",
        "\n",
        "\n",
        "\n"
      ],
      "metadata": {
        "id": "z-E2qNxTXzsP"
      }
    },
    {
      "cell_type": "markdown",
      "source": [],
      "metadata": {
        "id": "OqPbjqt8cHp6"
      }
    },
    {
      "cell_type": "code",
      "source": [
        "#practicals-\n",
        "#1. Write a code to create a string with your name and print it\n",
        "\n",
        "name=\"Swathi R\"\n",
        "print(name)"
      ],
      "metadata": {
        "colab": {
          "base_uri": "https://localhost:8080/"
        },
        "id": "dpBoNhZ-cKE-",
        "outputId": "133829a1-7d8e-4621-a242-a428e28fad1a"
      },
      "execution_count": null,
      "outputs": [
        {
          "output_type": "stream",
          "name": "stdout",
          "text": [
            "Swathi R\n"
          ]
        }
      ]
    },
    {
      "cell_type": "code",
      "source": [
        "#2.  Write a code to find the length of the string \"Hello World\"\n",
        "\n",
        "print(len(\"Hello World\"))"
      ],
      "metadata": {
        "colab": {
          "base_uri": "https://localhost:8080/"
        },
        "id": "AkzNiqTFcnaU",
        "outputId": "b436b529-0e91-4f06-e6b6-32f1dcda6722"
      },
      "execution_count": null,
      "outputs": [
        {
          "output_type": "stream",
          "name": "stdout",
          "text": [
            "11\n"
          ]
        }
      ]
    },
    {
      "cell_type": "code",
      "source": [
        "#3.Write a code to slice the first 3 characters from the string \"Python Programming\"\n",
        "name=\"python programming\"\n",
        "print(name[0:3])"
      ],
      "metadata": {
        "colab": {
          "base_uri": "https://localhost:8080/"
        },
        "id": "JRIXL4Csc197",
        "outputId": "86c12796-6bc9-49e0-9723-0b66255d6171"
      },
      "execution_count": null,
      "outputs": [
        {
          "output_type": "stream",
          "name": "stdout",
          "text": [
            "pyt\n"
          ]
        }
      ]
    },
    {
      "cell_type": "code",
      "source": [
        "#4. Write a code to convert the string \"hello\" to uppercase\n",
        "\n",
        "print(\"hello\".upper())"
      ],
      "metadata": {
        "colab": {
          "base_uri": "https://localhost:8080/"
        },
        "id": "PYA81fhydTah",
        "outputId": "4220b728-c643-4f66-e3b1-7eae608998c9"
      },
      "execution_count": null,
      "outputs": [
        {
          "output_type": "stream",
          "name": "stdout",
          "text": [
            "HELLO\n"
          ]
        }
      ]
    },
    {
      "cell_type": "code",
      "source": [
        "#5.  Write a code to replace the word \"apple\" with \"orange\" in the string \"I like apple\"\n",
        "fruit=\"I like apple\"\n",
        "print(fruit)\n",
        "print(fruit.replace(\"apple\",\"orange\")) #replacing"
      ],
      "metadata": {
        "colab": {
          "base_uri": "https://localhost:8080/"
        },
        "id": "nXea9Bcldki_",
        "outputId": "fad10287-8e61-430d-a074-bc884fd5f158"
      },
      "execution_count": null,
      "outputs": [
        {
          "output_type": "stream",
          "name": "stdout",
          "text": [
            "I like apple\n",
            "I like orange\n"
          ]
        }
      ]
    },
    {
      "cell_type": "code",
      "source": [
        "#6.  Write a code to create a list with numbers 1 to 5 and print it\n",
        "\n",
        "list1=[1,2,3,4,5]\n",
        "print(list1)"
      ],
      "metadata": {
        "colab": {
          "base_uri": "https://localhost:8080/"
        },
        "id": "OM-9dsRUd_71",
        "outputId": "2880018b-a3e3-4f3f-c813-8b0a66488240"
      },
      "execution_count": null,
      "outputs": [
        {
          "output_type": "stream",
          "name": "stdout",
          "text": [
            "[1, 2, 3, 4, 5]\n"
          ]
        }
      ]
    },
    {
      "cell_type": "code",
      "source": [
        "#7.  Write a code to append the number 10 to the list [1, 2, 3, 4]\n",
        "\n",
        "list1=[1,2,3,4]\n",
        "list1.append(10)\n",
        "print(list1)"
      ],
      "metadata": {
        "colab": {
          "base_uri": "https://localhost:8080/"
        },
        "id": "CyAz2w8VeT33",
        "outputId": "669474b5-3f8f-4e2f-930e-ec398454332d"
      },
      "execution_count": null,
      "outputs": [
        {
          "output_type": "stream",
          "name": "stdout",
          "text": [
            "[1, 2, 3, 4, 10]\n"
          ]
        }
      ]
    },
    {
      "cell_type": "code",
      "source": [
        "#8.  Write a code to remove the number 3 from the list [1, 2, 3, 4, 5]\n",
        "list1=[1,2,3,4,5]\n",
        "list1.remove(3)\n",
        "print(list1)"
      ],
      "metadata": {
        "colab": {
          "base_uri": "https://localhost:8080/"
        },
        "id": "VJWCByXHemOZ",
        "outputId": "4154b181-7ef5-4428-bbe0-21decf4decdf"
      },
      "execution_count": null,
      "outputs": [
        {
          "output_type": "stream",
          "name": "stdout",
          "text": [
            "[1, 2, 4, 5]\n"
          ]
        }
      ]
    },
    {
      "cell_type": "code",
      "source": [
        "#9.  Write a code to access the second element in the list ['a', 'b', 'c', 'd']\n",
        "list1=['a','b','c','d']\n",
        "print(list1[1])"
      ],
      "metadata": {
        "colab": {
          "base_uri": "https://localhost:8080/"
        },
        "id": "nrhzovA_fOWr",
        "outputId": "d844f625-8efb-4b80-ba37-a66139896b48"
      },
      "execution_count": null,
      "outputs": [
        {
          "output_type": "stream",
          "name": "stdout",
          "text": [
            "b\n"
          ]
        }
      ]
    },
    {
      "cell_type": "code",
      "source": [
        "#10.  Write a code to reverse the list [10, 20, 30, 40, 50].\n",
        "\n",
        "list1=[10,20,30,40,50]\n",
        "print(list1[::-1])"
      ],
      "metadata": {
        "colab": {
          "base_uri": "https://localhost:8080/"
        },
        "id": "KnRcc1lBfgro",
        "outputId": "8d3cb19e-06fb-48c9-e586-43f18592824a"
      },
      "execution_count": null,
      "outputs": [
        {
          "output_type": "stream",
          "name": "stdout",
          "text": [
            "[50, 40, 30, 20, 10]\n"
          ]
        }
      ]
    },
    {
      "cell_type": "code",
      "source": [
        "#11. Write a code to create a tuple with the elements 100, 200, 300 and print it.\n",
        "\n",
        "tuple1=(100,200,300)\n",
        "print(tuple1)"
      ],
      "metadata": {
        "colab": {
          "base_uri": "https://localhost:8080/"
        },
        "id": "aX8e1zLAgsa6",
        "outputId": "ed5cbfc3-54e1-4557-8244-9240c815e211"
      },
      "execution_count": null,
      "outputs": [
        {
          "output_type": "stream",
          "name": "stdout",
          "text": [
            "(100, 200, 300)\n"
          ]
        }
      ]
    },
    {
      "cell_type": "code",
      "source": [
        "# 12. Write a code to access the second-to-last element of the tuple ('red', 'green', 'blue', 'yellow').\n",
        "tuple1=('red','green','blue','yellow')\n",
        "print(tuple1[1:])"
      ],
      "metadata": {
        "colab": {
          "base_uri": "https://localhost:8080/"
        },
        "id": "e24sqS1dg_eF",
        "outputId": "084466d5-3251-415f-91a6-0ec1cac04ca1"
      },
      "execution_count": null,
      "outputs": [
        {
          "output_type": "stream",
          "name": "stdout",
          "text": [
            "('green', 'blue', 'yellow')\n"
          ]
        }
      ]
    },
    {
      "cell_type": "code",
      "source": [
        "#13.Write a code to find the minimum number in the tuple (10, 20, 5, 15).\n",
        "\n",
        "tuple1 =(10,20,5,15)\n",
        "minimum_number = min(tuple1)\n",
        "print(minimum_number)"
      ],
      "metadata": {
        "colab": {
          "base_uri": "https://localhost:8080/"
        },
        "id": "8VaxlVgFhw3z",
        "outputId": "5643794a-7659-42cd-b05a-b64fcf376a5d"
      },
      "execution_count": null,
      "outputs": [
        {
          "output_type": "stream",
          "name": "stdout",
          "text": [
            "5\n"
          ]
        }
      ]
    },
    {
      "cell_type": "code",
      "source": [
        "# 14. Write a code to find the index of the element \"cat\" in the tuple ('dog', 'cat', 'rabbit').\n",
        "tuple1=('dog','cat','rabbit')\n",
        "print(tuple1.index(\"cat\"))"
      ],
      "metadata": {
        "colab": {
          "base_uri": "https://localhost:8080/"
        },
        "id": "YDXmMrR-jSuI",
        "outputId": "1b83ec6a-d6c1-4e44-c039-79e62805b861"
      },
      "execution_count": null,
      "outputs": [
        {
          "output_type": "stream",
          "name": "stdout",
          "text": [
            "1\n"
          ]
        }
      ]
    },
    {
      "cell_type": "code",
      "source": [
        "#15. Write a code to create a tuple containing three different fruits and check if \"kiwi\" is in it.\n",
        "\n",
        "tuple1=(\"apple\",\"mango\",\"kiwi\")\n",
        "\n",
        "print(\"kiwi\" in tuple1)\n"
      ],
      "metadata": {
        "id": "gVHPlbJZkcvI",
        "colab": {
          "base_uri": "https://localhost:8080/"
        },
        "outputId": "921809c8-1fa0-4b6b-d695-1adfe2c3a4a7"
      },
      "execution_count": null,
      "outputs": [
        {
          "output_type": "stream",
          "name": "stdout",
          "text": [
            "True\n"
          ]
        }
      ]
    },
    {
      "cell_type": "code",
      "source": [
        "#16. Write a code to create a set with the elements 'a', 'b', 'c' and print it.\n",
        "\n",
        "set1={'a','b,','c'}\n",
        "print(set1)\n"
      ],
      "metadata": {
        "colab": {
          "base_uri": "https://localhost:8080/"
        },
        "id": "nRJY16BOtj3a",
        "outputId": "167e5d33-2009-402b-e721-d20c8f071b03"
      },
      "execution_count": null,
      "outputs": [
        {
          "output_type": "stream",
          "name": "stdout",
          "text": [
            "{'a', 'b,', 'c'}\n"
          ]
        }
      ]
    },
    {
      "cell_type": "code",
      "source": [
        "#17.Write a code to clear all elements from the set {1, 2, 3, 4, 5}.\n",
        "\n",
        "set1={1,2,3,4,5}\n",
        "set1.clear()\n",
        "print(set1)"
      ],
      "metadata": {
        "colab": {
          "base_uri": "https://localhost:8080/"
        },
        "id": "HAmrjtjtt62B",
        "outputId": "61eba196-b136-42bb-a314-956c9d5bcbca"
      },
      "execution_count": null,
      "outputs": [
        {
          "output_type": "stream",
          "name": "stdout",
          "text": [
            "set()\n"
          ]
        }
      ]
    },
    {
      "cell_type": "code",
      "source": [
        "#18.Write a code to remove the element 4 from the set {1, 2, 3, 4}.\n",
        "\n",
        "set1={1,2,3,4}\n",
        "set1.remove(4)\n",
        "print(set1)"
      ],
      "metadata": {
        "colab": {
          "base_uri": "https://localhost:8080/"
        },
        "id": "dFPpcAE-uRPq",
        "outputId": "797a9f0f-bc15-476c-9b4a-5de98af3ef06"
      },
      "execution_count": null,
      "outputs": [
        {
          "output_type": "stream",
          "name": "stdout",
          "text": [
            "{1, 2, 3}\n"
          ]
        }
      ]
    },
    {
      "cell_type": "code",
      "source": [
        "#19.Write a code to find the union of two sets {1, 2, 3} and {3, 4, 5}.\n",
        "\n",
        "set1={1,2,3}\n",
        "set2={3,4,5}\n",
        "set3=set1 | set2\n",
        "print(set3)"
      ],
      "metadata": {
        "colab": {
          "base_uri": "https://localhost:8080/"
        },
        "id": "trkTZpTiux-a",
        "outputId": "b8d9179b-14df-4aba-a330-6bd99c7f4118"
      },
      "execution_count": null,
      "outputs": [
        {
          "output_type": "stream",
          "name": "stdout",
          "text": [
            "{1, 2, 3, 4, 5}\n"
          ]
        }
      ]
    },
    {
      "cell_type": "code",
      "source": [
        "# 20. Write a code to find the intersection of two sets {1, 2, 3} and {2, 3, 4}.\n",
        "set1={1,2,3}\n",
        "set2={2,3,4}\n",
        "set3=set1 & set2\n",
        "print(set3)\n"
      ],
      "metadata": {
        "colab": {
          "base_uri": "https://localhost:8080/"
        },
        "id": "1l-8suD9dZQW",
        "outputId": "9f96dbf0-801a-420b-db4d-970120b90b89"
      },
      "execution_count": null,
      "outputs": [
        {
          "output_type": "stream",
          "name": "stdout",
          "text": [
            "{2, 3}\n"
          ]
        }
      ]
    },
    {
      "cell_type": "code",
      "source": [
        "#21. Write a code to create a dictionary with the keys \"name\", \"age\", and \"city\", and print it.\n",
        "\n",
        "dic={\"name\":\"Swathi\",\"age\":24,\"city\":\"KGF\"}\n",
        "print(dic)\n",
        "print(dic.keys()) #prints only keys\n"
      ],
      "metadata": {
        "colab": {
          "base_uri": "https://localhost:8080/"
        },
        "id": "mG9aX9RheMax",
        "outputId": "ca50df35-de7b-41ad-abbf-e08ad1ecc8f2"
      },
      "execution_count": null,
      "outputs": [
        {
          "output_type": "stream",
          "name": "stdout",
          "text": [
            "{'name': 'Swathi', 'age': 24, 'city': 'KGF'}\n",
            "dict_keys(['name', 'age', 'city'])\n"
          ]
        }
      ]
    },
    {
      "cell_type": "code",
      "source": [
        "#22. Write a code to add a new key-value pair \"country\": \"USA\" to the dictionary {'name': 'John', 'age': 25}.\n",
        "\n",
        "dect={\"name\":\"John\",\"age\":25}\n",
        "print(dect)\n",
        "dect[\"country\"]=\"USA\"\n",
        "print(dect)"
      ],
      "metadata": {
        "colab": {
          "base_uri": "https://localhost:8080/"
        },
        "id": "pp6mCHOufpNV",
        "outputId": "aaa0e848-aef2-4fc1-cab9-3ff39555d5ec"
      },
      "execution_count": null,
      "outputs": [
        {
          "output_type": "stream",
          "name": "stdout",
          "text": [
            "{'name': 'John', 'age': 25}\n",
            "{'name': 'John', 'age': 25, 'country': 'USA'}\n"
          ]
        }
      ]
    },
    {
      "cell_type": "code",
      "source": [
        "#23 Write a code to access the value associated with the key \"name\" in the dictionary {'name': 'Alice', 'age': 30}.\n",
        "\n",
        "de={'name':'Alice','age':30}\n",
        "print(de[\"name\"])"
      ],
      "metadata": {
        "colab": {
          "base_uri": "https://localhost:8080/"
        },
        "id": "vfznSkV-iT11",
        "outputId": "40d4aa34-594c-41ef-c4c9-86b6fe7da652"
      },
      "execution_count": null,
      "outputs": [
        {
          "output_type": "stream",
          "name": "stdout",
          "text": [
            "Alice\n"
          ]
        }
      ]
    },
    {
      "cell_type": "code",
      "source": [
        "\n",
        "#24. Write a code to remove the key \"age\" from the dictionary {'name': 'Bob', 'age': 22, 'city': 'New York'}.\n",
        "\n",
        "dic={'name': 'Bob', 'age': 22, 'city': 'New York'}\n",
        "del dic[\"age\"]\n",
        "print(dic)"
      ],
      "metadata": {
        "colab": {
          "base_uri": "https://localhost:8080/"
        },
        "id": "eGsPg4gQitq2",
        "outputId": "8d3a0d8f-6b4b-4762-c12b-118e731e9b00"
      },
      "execution_count": null,
      "outputs": [
        {
          "output_type": "stream",
          "name": "stdout",
          "text": [
            "{'name': 'Bob', 'city': 'New York'}\n"
          ]
        }
      ]
    },
    {
      "cell_type": "code",
      "source": [
        "# 25. Write a code to check if the key \"city\" exists in the dictionary {'name': 'Alice', 'city': 'Paris'}.\n",
        "\n",
        "dict={'name': 'Alice', 'city': 'Paris'}\n",
        "\n",
        "for i in dict:\n",
        "  if i == 'city':\n",
        "    print(f\"{i} exists in dict\")\n",
        "#or\n",
        "print(\"city\" in dict)"
      ],
      "metadata": {
        "colab": {
          "base_uri": "https://localhost:8080/"
        },
        "id": "wHlmhgdjjcul",
        "outputId": "4892c7b0-d8bc-4f9a-8475-f8534a348299"
      },
      "execution_count": null,
      "outputs": [
        {
          "output_type": "stream",
          "name": "stdout",
          "text": [
            "city exists in dict\n",
            "True\n"
          ]
        }
      ]
    },
    {
      "cell_type": "code",
      "source": [
        "#26. Write a code to create a list, a tuple, and a dictionary, and print them all.\n",
        "\n",
        "list1=[1,2,3,4,5,\"Hello\"]\n",
        "tuple1=(1,2,3,4,5,\"Hello\")\n",
        "dictionary1={\"num\":10,\"hero\":\"PK\",\"city\":\"KGF\"}\n",
        "print(list1)\n",
        "print(tuple1)\n",
        "print(dictionary1)"
      ],
      "metadata": {
        "colab": {
          "base_uri": "https://localhost:8080/"
        },
        "id": "BqEJ9m33kGHJ",
        "outputId": "443a3248-1de8-45a6-877a-d126cf146b43"
      },
      "execution_count": null,
      "outputs": [
        {
          "output_type": "stream",
          "name": "stdout",
          "text": [
            "[1, 2, 3, 4, 5, 'Hello']\n",
            "(1, 2, 3, 4, 5, 'Hello') <class 'tuple'>\n",
            "{'num': 10, 'hero': 'PK', 'city': 'KGF'}\n"
          ]
        }
      ]
    },
    {
      "cell_type": "code",
      "source": [
        "# 27. Write a code to create a list of 5 random numbers between 1 and 100, sort it in ascending order, and print the\n",
        "# result.(replaced)\n",
        "\n",
        "lis= [99,54,9,19,59]\n",
        "print(lis)\n",
        "print(sorted(lis))"
      ],
      "metadata": {
        "colab": {
          "base_uri": "https://localhost:8080/"
        },
        "id": "SvGHqVDVk4j5",
        "outputId": "b7d44080-1172-4522-ae27-8af222e1a49c"
      },
      "execution_count": null,
      "outputs": [
        {
          "output_type": "stream",
          "name": "stdout",
          "text": [
            "[99, 54, 9, 19, 59]\n",
            "[9, 19, 54, 59, 99]\n"
          ]
        }
      ]
    },
    {
      "cell_type": "code",
      "source": [
        "# 28. Write a code to create a list with strings and print the element at the third index.\n",
        "\n",
        "lis=[\"swathi\",\"how are you\",\"doing\",\"today\",\"hope you are good\"]\n",
        "print(lis[3])"
      ],
      "metadata": {
        "colab": {
          "base_uri": "https://localhost:8080/"
        },
        "id": "LuJgjGdxlWor",
        "outputId": "b6fc2494-a744-4873-c6b6-618119ba8892"
      },
      "execution_count": null,
      "outputs": [
        {
          "output_type": "stream",
          "name": "stdout",
          "text": [
            "today\n"
          ]
        }
      ]
    },
    {
      "cell_type": "code",
      "source": [
        "# 29. Write a code to combine two dictionaries into one and print the result.\n",
        "\n",
        "dic1={\"fav_color\":\"black\",\"fav_place\":\"xyz\"}\n",
        "dic2={\"fav_day\":\"nov 6th\",\"fav_hero\":\"PK\"}\n",
        "dic3=dic1|dic2 #adding 2 dictionary\n",
        "print(dic3)"
      ],
      "metadata": {
        "colab": {
          "base_uri": "https://localhost:8080/"
        },
        "id": "s-EOq8XJlyRg",
        "outputId": "403d76ee-80e0-46d5-edd3-20dcc2127fc3"
      },
      "execution_count": null,
      "outputs": [
        {
          "output_type": "stream",
          "name": "stdout",
          "text": [
            "{'fav_color': 'black', 'fav_place': 'xyz', 'fav_day': 'nov 6th', 'fav_hero': 'PK'}\n"
          ]
        }
      ]
    },
    {
      "cell_type": "code",
      "source": [
        "#30. Write a code to convert a list of strings into a set\n",
        "\n",
        "lists=[\"fruits\",\"vegetables\",\"sugar\"]\n",
        "set1=set(lists)\n",
        "print(set1)\n"
      ],
      "metadata": {
        "colab": {
          "base_uri": "https://localhost:8080/"
        },
        "id": "TsS9hfCyoqwv",
        "outputId": "6271f4a6-770e-4b72-91fa-45e28c927ecd"
      },
      "execution_count": null,
      "outputs": [
        {
          "output_type": "stream",
          "name": "stdout",
          "text": [
            "{'fruits', 'sugar', 'vegetables'}\n",
            "('fruits', 'vegetables', 'sugar')\n"
          ]
        }
      ]
    }
  ]
}